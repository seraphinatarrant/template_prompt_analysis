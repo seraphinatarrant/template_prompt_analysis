{
 "cells": [
  {
   "cell_type": "code",
   "execution_count": 206,
   "id": "e3e5537b",
   "metadata": {},
   "outputs": [],
   "source": [
    "import pandas as pd\n",
    "from IPython.display import display\n",
    "import numpy as np\n",
    "import re\n",
    "from collections import defaultdict\n",
    "import seaborn as sns\n",
    "import matplotlib.pyplot as plt\n",
    "from collections import Counter\n"
   ]
  },
  {
   "cell_type": "code",
   "execution_count": 278,
   "id": "eca2adbc",
   "metadata": {
    "tags": []
   },
   "outputs": [
    {
     "data": {
      "text/html": [
       "<div>\n",
       "<style scoped>\n",
       "    .dataframe tbody tr th:only-of-type {\n",
       "        vertical-align: middle;\n",
       "    }\n",
       "\n",
       "    .dataframe tbody tr th {\n",
       "        vertical-align: top;\n",
       "    }\n",
       "\n",
       "    .dataframe thead th {\n",
       "        text-align: right;\n",
       "    }\n",
       "</style>\n",
       "<table border=\"1\" class=\"dataframe\">\n",
       "  <thead>\n",
       "    <tr style=\"text-align: right;\">\n",
       "      <th>Title</th>\n",
       "      <th>Link</th>\n",
       "      <th>Paper notes</th>\n",
       "      <th>Language</th>\n",
       "      <th>Model(s)</th>\n",
       "      <th>Code available?</th>\n",
       "      <th>Comments</th>\n",
       "      <th>Prompt task</th>\n",
       "      <th>Sequence Scoring</th>\n",
       "      <th>Comments</th>\n",
       "      <th>Single word generation</th>\n",
       "      <th>...</th>\n",
       "      <th>Most probable option or N options</th>\n",
       "      <th>Comments</th>\n",
       "      <th>Difference in output distributions</th>\n",
       "      <th>Comments</th>\n",
       "      <th>Difference in toxicity</th>\n",
       "      <th>Comments</th>\n",
       "      <th>Difference in sentiment</th>\n",
       "      <th>Comments</th>\n",
       "      <th>Difference in regard</th>\n",
       "      <th>Comments</th>\n",
       "    </tr>\n",
       "  </thead>\n",
       "  <tbody>\n",
       "    <tr>\n",
       "      <th>Unpacking the Interdependent Systems of Discrimination: Ableist Bias in NLP Systems through an Intersectional Lens</th>\n",
       "      <td>https://aclanthology.org/2021.findings-emnlp.2...</td>\n",
       "      <td>based on (hutchinson et al., 2020) and kurita ...</td>\n",
       "      <td>en</td>\n",
       "      <td>bert-base-uncased</td>\n",
       "      <td>yes</td>\n",
       "      <td>code is not available but test data is, and co...</td>\n",
       "      <td>NaN</td>\n",
       "      <td>no</td>\n",
       "      <td>NaN</td>\n",
       "      <td>yes</td>\n",
       "      <td>...</td>\n",
       "      <td>no</td>\n",
       "      <td>NaN</td>\n",
       "      <td>no</td>\n",
       "      <td>NaN</td>\n",
       "      <td>no</td>\n",
       "      <td>NaN</td>\n",
       "      <td>yes</td>\n",
       "      <td>use google cloud sentiment analyser</td>\n",
       "      <td>no</td>\n",
       "      <td>NaN</td>\n",
       "    </tr>\n",
       "    <tr>\n",
       "      <th>Universal Adversarial Triggers for Attacking and Analyzing NLP</th>\n",
       "      <td>https://aclanthology.org/d19-1221.pdf</td>\n",
       "      <td>NaN</td>\n",
       "      <td>en</td>\n",
       "      <td>gpt-2 (117m params) and 345m params</td>\n",
       "      <td>yes</td>\n",
       "      <td>https://github.com/eric-wallace/universal-trig...</td>\n",
       "      <td>NaN</td>\n",
       "      <td>no</td>\n",
       "      <td>NaN</td>\n",
       "      <td>no</td>\n",
       "      <td>...</td>\n",
       "      <td>no</td>\n",
       "      <td>NaN</td>\n",
       "      <td>no</td>\n",
       "      <td>NaN</td>\n",
       "      <td>yes</td>\n",
       "      <td>NaN</td>\n",
       "      <td>no</td>\n",
       "      <td>NaN</td>\n",
       "      <td>no</td>\n",
       "      <td>NaN</td>\n",
       "    </tr>\n",
       "    <tr>\n",
       "      <th>CrowS-Pairs: A Challenge Dataset for Measuring Social Biases in Masked Language Models</th>\n",
       "      <td>https://aclanthology.org/2020.emnlp-main.154.pdf</td>\n",
       "      <td>introduces a new benchmark dataset (subsequent...</td>\n",
       "      <td>en</td>\n",
       "      <td>bert-base, roberta-large, albertxxl-v2</td>\n",
       "      <td>yes</td>\n",
       "      <td>https://github.com/nyu-mll/crows-pairs/</td>\n",
       "      <td>NaN</td>\n",
       "      <td>yes</td>\n",
       "      <td>NaN</td>\n",
       "      <td>no</td>\n",
       "      <td>...</td>\n",
       "      <td>no</td>\n",
       "      <td>NaN</td>\n",
       "      <td>no</td>\n",
       "      <td>NaN</td>\n",
       "      <td>no</td>\n",
       "      <td>NaN</td>\n",
       "      <td>no</td>\n",
       "      <td>NaN</td>\n",
       "      <td>no</td>\n",
       "      <td>NaN</td>\n",
       "    </tr>\n",
       "    <tr>\n",
       "      <th>“You are grounded!”: Latent Name Artifacts in Pre-trained Language Models</th>\n",
       "      <td>https://aclanthology.org/2020.emnlp-main.556.pdf</td>\n",
       "      <td>NaN</td>\n",
       "      <td>en</td>\n",
       "      <td>bert, roberta, gpt, gpt2, xlnet, transformerxl</td>\n",
       "      <td>yes</td>\n",
       "      <td>https://github.com/vered1986/lm_ne_bias</td>\n",
       "      <td>NaN</td>\n",
       "      <td>no</td>\n",
       "      <td>NaN</td>\n",
       "      <td>no</td>\n",
       "      <td>...</td>\n",
       "      <td>no</td>\n",
       "      <td>NaN</td>\n",
       "      <td>yes</td>\n",
       "      <td>50 sample endings for each template</td>\n",
       "      <td>no</td>\n",
       "      <td>NaN</td>\n",
       "      <td>yes</td>\n",
       "      <td>NaN</td>\n",
       "      <td>no</td>\n",
       "      <td>NaN</td>\n",
       "    </tr>\n",
       "    <tr>\n",
       "      <th>Queens are Powerful too: Mitigating Gender Bias in Dialogue Generation</th>\n",
       "      <td>https://aclanthology.org/2020.emnlp-main.656.pdf</td>\n",
       "      <td>NaN</td>\n",
       "      <td>en</td>\n",
       "      <td>transformer encoder-decoder (i think bert) bas...</td>\n",
       "      <td>yes</td>\n",
       "      <td>https://parl.ai/projects/genderation_bias/ tho...</td>\n",
       "      <td>NaN</td>\n",
       "      <td>no</td>\n",
       "      <td>NaN</td>\n",
       "      <td>no</td>\n",
       "      <td>...</td>\n",
       "      <td>no</td>\n",
       "      <td>NaN</td>\n",
       "      <td>yes</td>\n",
       "      <td>not explicit but seems so: generate one senten...</td>\n",
       "      <td>yes</td>\n",
       "      <td>look at generic \"offensiveness\" of output</td>\n",
       "      <td>no</td>\n",
       "      <td>NaN</td>\n",
       "      <td>no</td>\n",
       "      <td>NaN</td>\n",
       "    </tr>\n",
       "    <tr>\n",
       "      <th>...</th>\n",
       "      <td>...</td>\n",
       "      <td>...</td>\n",
       "      <td>...</td>\n",
       "      <td>...</td>\n",
       "      <td>...</td>\n",
       "      <td>...</td>\n",
       "      <td>...</td>\n",
       "      <td>...</td>\n",
       "      <td>...</td>\n",
       "      <td>...</td>\n",
       "      <td>...</td>\n",
       "      <td>...</td>\n",
       "      <td>...</td>\n",
       "      <td>...</td>\n",
       "      <td>...</td>\n",
       "      <td>...</td>\n",
       "      <td>...</td>\n",
       "      <td>...</td>\n",
       "      <td>...</td>\n",
       "      <td>...</td>\n",
       "      <td>...</td>\n",
       "    </tr>\n",
       "    <tr>\n",
       "      <th>Quantifying Gender Bias Towards Politicians in Cross-Lingual Language Models</th>\n",
       "      <td>https://arxiv.org/abs/2104.07505</td>\n",
       "      <td>NaN</td>\n",
       "      <td>arabic, chinese, english, french, hindi, russi...</td>\n",
       "      <td>cross-lingual masked language models</td>\n",
       "      <td>no</td>\n",
       "      <td>NaN</td>\n",
       "      <td>NaN</td>\n",
       "      <td>no</td>\n",
       "      <td>NaN</td>\n",
       "      <td>yes</td>\n",
       "      <td>...</td>\n",
       "      <td>yes</td>\n",
       "      <td>NaN</td>\n",
       "      <td>no</td>\n",
       "      <td>NaN</td>\n",
       "      <td>no</td>\n",
       "      <td>NaN</td>\n",
       "      <td>yes</td>\n",
       "      <td>relative frequency of positive vs. negative se...</td>\n",
       "      <td>no</td>\n",
       "      <td>NaN</td>\n",
       "    </tr>\n",
       "    <tr>\n",
       "      <th>Theory-Grounded Measurement of U.S. Social Stereotypes in English Language Models</th>\n",
       "      <td>https://aclanthology.org/2022.naacl-main.92/</td>\n",
       "      <td>measures correlations of different demographic...</td>\n",
       "      <td>english</td>\n",
       "      <td>bert and roberta</td>\n",
       "      <td>yes</td>\n",
       "      <td>https://github.com/tristacao/u.s_stereotypes.</td>\n",
       "      <td>NaN</td>\n",
       "      <td>yes</td>\n",
       "      <td>ilps (template based, following kurita et al. ...</td>\n",
       "      <td>no</td>\n",
       "      <td>...</td>\n",
       "      <td>no</td>\n",
       "      <td>NaN</td>\n",
       "      <td>no</td>\n",
       "      <td>NaN</td>\n",
       "      <td>no</td>\n",
       "      <td>NaN</td>\n",
       "      <td>no</td>\n",
       "      <td>NaN</td>\n",
       "      <td>no</td>\n",
       "      <td>NaN</td>\n",
       "    </tr>\n",
       "    <tr>\n",
       "      <th>StereoSet: Measuring stereotypical bias in pretrained language models</th>\n",
       "      <td>https://aclanthology.org/2021.acl-long.416.pdf</td>\n",
       "      <td>NaN</td>\n",
       "      <td>english</td>\n",
       "      <td>bert, gpt2, roberta, and xlnet</td>\n",
       "      <td>yes</td>\n",
       "      <td>https://stereoset.mit.edu/</td>\n",
       "      <td>NaN</td>\n",
       "      <td>yes</td>\n",
       "      <td>log probability for an attribute term to fill ...</td>\n",
       "      <td>no</td>\n",
       "      <td>...</td>\n",
       "      <td>no</td>\n",
       "      <td>NaN</td>\n",
       "      <td>no</td>\n",
       "      <td>NaN</td>\n",
       "      <td>no</td>\n",
       "      <td>NaN</td>\n",
       "      <td>no</td>\n",
       "      <td>NaN</td>\n",
       "      <td>no</td>\n",
       "      <td>NaN</td>\n",
       "    </tr>\n",
       "    <tr>\n",
       "      <th>Towards WinoQueer: Developing a Benchmark for Anti-Queer Bias in Large Language Models</th>\n",
       "      <td>https://arxiv.org/abs/2206.11484</td>\n",
       "      <td>modelled after crows-pairs and winogender</td>\n",
       "      <td>english</td>\n",
       "      <td>bert-base, bert-large, spanbert-base, spanbert...</td>\n",
       "      <td>yes</td>\n",
       "      <td>https://github.com/katyfelkner/winoqueer</td>\n",
       "      <td>NaN</td>\n",
       "      <td>yes</td>\n",
       "      <td>comparison of log probability of stereotypical...</td>\n",
       "      <td>no</td>\n",
       "      <td>...</td>\n",
       "      <td>no</td>\n",
       "      <td>NaN</td>\n",
       "      <td>no</td>\n",
       "      <td>NaN</td>\n",
       "      <td>no</td>\n",
       "      <td>NaN</td>\n",
       "      <td>no</td>\n",
       "      <td>NaN</td>\n",
       "      <td>no</td>\n",
       "      <td>NaN</td>\n",
       "    </tr>\n",
       "    <tr>\n",
       "      <th>Fewer Errors, but More Stereotypes? The Effect of Model Size on Gender Bias</th>\n",
       "      <td>https://arxiv.org/pdf/2206.09860.pdf</td>\n",
       "      <td>kurita et al. style gender-occupation associat...</td>\n",
       "      <td>english</td>\n",
       "      <td>roberta, deberta, and t5</td>\n",
       "      <td>yes</td>\n",
       "      <td>https://github.com/schwartz-lab-nlp/model_size...</td>\n",
       "      <td>NaN</td>\n",
       "      <td>yes</td>\n",
       "      <td>single prompt: \"[mask] worked as a/an [occupat...</td>\n",
       "      <td>no</td>\n",
       "      <td>...</td>\n",
       "      <td>no</td>\n",
       "      <td>NaN</td>\n",
       "      <td>no</td>\n",
       "      <td>NaN</td>\n",
       "      <td>no</td>\n",
       "      <td>NaN</td>\n",
       "      <td>no</td>\n",
       "      <td>NaN</td>\n",
       "      <td>no</td>\n",
       "      <td>NaN</td>\n",
       "    </tr>\n",
       "  </tbody>\n",
       "</table>\n",
       "<p>90 rows × 92 columns</p>\n",
       "</div>"
      ],
      "text/plain": [
       "Title                                                                                            Link  \\\n",
       "Unpacking the Interdependent Systems of Discrim...  https://aclanthology.org/2021.findings-emnlp.2...   \n",
       "Universal Adversarial Triggers for Attacking an...              https://aclanthology.org/d19-1221.pdf   \n",
       "CrowS-Pairs: A Challenge Dataset for Measuring ...   https://aclanthology.org/2020.emnlp-main.154.pdf   \n",
       "“You are grounded!”: Latent Name Artifacts in P...   https://aclanthology.org/2020.emnlp-main.556.pdf   \n",
       "Queens are Powerful too: Mitigating Gender Bias...   https://aclanthology.org/2020.emnlp-main.656.pdf   \n",
       "...                                                                                               ...   \n",
       "Quantifying Gender Bias Towards Politicians in ...                   https://arxiv.org/abs/2104.07505   \n",
       "Theory-Grounded Measurement of U.S. Social Ster...       https://aclanthology.org/2022.naacl-main.92/   \n",
       "StereoSet: Measuring stereotypical bias in pret...     https://aclanthology.org/2021.acl-long.416.pdf   \n",
       "Towards WinoQueer: Developing a Benchmark for A...                   https://arxiv.org/abs/2206.11484   \n",
       "Fewer Errors, but More Stereotypes? The Effect ...               https://arxiv.org/pdf/2206.09860.pdf   \n",
       "\n",
       "Title                                                                                     Paper notes  \\\n",
       "Unpacking the Interdependent Systems of Discrim...  based on (hutchinson et al., 2020) and kurita ...   \n",
       "Universal Adversarial Triggers for Attacking an...                                                NaN   \n",
       "CrowS-Pairs: A Challenge Dataset for Measuring ...  introduces a new benchmark dataset (subsequent...   \n",
       "“You are grounded!”: Latent Name Artifacts in P...                                                NaN   \n",
       "Queens are Powerful too: Mitigating Gender Bias...                                                NaN   \n",
       "...                                                                                               ...   \n",
       "Quantifying Gender Bias Towards Politicians in ...                                                NaN   \n",
       "Theory-Grounded Measurement of U.S. Social Ster...  measures correlations of different demographic...   \n",
       "StereoSet: Measuring stereotypical bias in pret...                                                NaN   \n",
       "Towards WinoQueer: Developing a Benchmark for A...          modelled after crows-pairs and winogender   \n",
       "Fewer Errors, but More Stereotypes? The Effect ...  kurita et al. style gender-occupation associat...   \n",
       "\n",
       "Title                                                                                        Language  \\\n",
       "Unpacking the Interdependent Systems of Discrim...                                                 en   \n",
       "Universal Adversarial Triggers for Attacking an...                                                 en   \n",
       "CrowS-Pairs: A Challenge Dataset for Measuring ...                                                 en   \n",
       "“You are grounded!”: Latent Name Artifacts in P...                                                 en   \n",
       "Queens are Powerful too: Mitigating Gender Bias...                                                 en   \n",
       "...                                                                                               ...   \n",
       "Quantifying Gender Bias Towards Politicians in ...  arabic, chinese, english, french, hindi, russi...   \n",
       "Theory-Grounded Measurement of U.S. Social Ster...                                            english   \n",
       "StereoSet: Measuring stereotypical bias in pret...                                            english   \n",
       "Towards WinoQueer: Developing a Benchmark for A...                                            english   \n",
       "Fewer Errors, but More Stereotypes? The Effect ...                                            english   \n",
       "\n",
       "Title                                                                                        Model(s)  \\\n",
       "Unpacking the Interdependent Systems of Discrim...                                  bert-base-uncased   \n",
       "Universal Adversarial Triggers for Attacking an...                gpt-2 (117m params) and 345m params   \n",
       "CrowS-Pairs: A Challenge Dataset for Measuring ...             bert-base, roberta-large, albertxxl-v2   \n",
       "“You are grounded!”: Latent Name Artifacts in P...     bert, roberta, gpt, gpt2, xlnet, transformerxl   \n",
       "Queens are Powerful too: Mitigating Gender Bias...  transformer encoder-decoder (i think bert) bas...   \n",
       "...                                                                                               ...   \n",
       "Quantifying Gender Bias Towards Politicians in ...               cross-lingual masked language models   \n",
       "Theory-Grounded Measurement of U.S. Social Ster...                                   bert and roberta   \n",
       "StereoSet: Measuring stereotypical bias in pret...                     bert, gpt2, roberta, and xlnet   \n",
       "Towards WinoQueer: Developing a Benchmark for A...  bert-base, bert-large, spanbert-base, spanbert...   \n",
       "Fewer Errors, but More Stereotypes? The Effect ...                           roberta, deberta, and t5   \n",
       "\n",
       "Title                                              Code available?  \\\n",
       "Unpacking the Interdependent Systems of Discrim...             yes   \n",
       "Universal Adversarial Triggers for Attacking an...             yes   \n",
       "CrowS-Pairs: A Challenge Dataset for Measuring ...             yes   \n",
       "“You are grounded!”: Latent Name Artifacts in P...             yes   \n",
       "Queens are Powerful too: Mitigating Gender Bias...             yes   \n",
       "...                                                            ...   \n",
       "Quantifying Gender Bias Towards Politicians in ...              no   \n",
       "Theory-Grounded Measurement of U.S. Social Ster...             yes   \n",
       "StereoSet: Measuring stereotypical bias in pret...             yes   \n",
       "Towards WinoQueer: Developing a Benchmark for A...             yes   \n",
       "Fewer Errors, but More Stereotypes? The Effect ...             yes   \n",
       "\n",
       "Title                                                                                        Comments  \\\n",
       "Unpacking the Interdependent Systems of Discrim...  code is not available but test data is, and co...   \n",
       "Universal Adversarial Triggers for Attacking an...  https://github.com/eric-wallace/universal-trig...   \n",
       "CrowS-Pairs: A Challenge Dataset for Measuring ...            https://github.com/nyu-mll/crows-pairs/   \n",
       "“You are grounded!”: Latent Name Artifacts in P...            https://github.com/vered1986/lm_ne_bias   \n",
       "Queens are Powerful too: Mitigating Gender Bias...  https://parl.ai/projects/genderation_bias/ tho...   \n",
       "...                                                                                               ...   \n",
       "Quantifying Gender Bias Towards Politicians in ...                                                NaN   \n",
       "Theory-Grounded Measurement of U.S. Social Ster...      https://github.com/tristacao/u.s_stereotypes.   \n",
       "StereoSet: Measuring stereotypical bias in pret...                         https://stereoset.mit.edu/   \n",
       "Towards WinoQueer: Developing a Benchmark for A...           https://github.com/katyfelkner/winoqueer   \n",
       "Fewer Errors, but More Stereotypes? The Effect ...  https://github.com/schwartz-lab-nlp/model_size...   \n",
       "\n",
       "Title                                               Prompt task  \\\n",
       "Unpacking the Interdependent Systems of Discrim...          NaN   \n",
       "Universal Adversarial Triggers for Attacking an...          NaN   \n",
       "CrowS-Pairs: A Challenge Dataset for Measuring ...          NaN   \n",
       "“You are grounded!”: Latent Name Artifacts in P...          NaN   \n",
       "Queens are Powerful too: Mitigating Gender Bias...          NaN   \n",
       "...                                                         ...   \n",
       "Quantifying Gender Bias Towards Politicians in ...          NaN   \n",
       "Theory-Grounded Measurement of U.S. Social Ster...          NaN   \n",
       "StereoSet: Measuring stereotypical bias in pret...          NaN   \n",
       "Towards WinoQueer: Developing a Benchmark for A...          NaN   \n",
       "Fewer Errors, but More Stereotypes? The Effect ...          NaN   \n",
       "\n",
       "Title                                              Sequence Scoring  \\\n",
       "Unpacking the Interdependent Systems of Discrim...               no   \n",
       "Universal Adversarial Triggers for Attacking an...               no   \n",
       "CrowS-Pairs: A Challenge Dataset for Measuring ...              yes   \n",
       "“You are grounded!”: Latent Name Artifacts in P...               no   \n",
       "Queens are Powerful too: Mitigating Gender Bias...               no   \n",
       "...                                                             ...   \n",
       "Quantifying Gender Bias Towards Politicians in ...               no   \n",
       "Theory-Grounded Measurement of U.S. Social Ster...              yes   \n",
       "StereoSet: Measuring stereotypical bias in pret...              yes   \n",
       "Towards WinoQueer: Developing a Benchmark for A...              yes   \n",
       "Fewer Errors, but More Stereotypes? The Effect ...              yes   \n",
       "\n",
       "Title                                                                                        Comments  \\\n",
       "Unpacking the Interdependent Systems of Discrim...                                                NaN   \n",
       "Universal Adversarial Triggers for Attacking an...                                                NaN   \n",
       "CrowS-Pairs: A Challenge Dataset for Measuring ...                                                NaN   \n",
       "“You are grounded!”: Latent Name Artifacts in P...                                                NaN   \n",
       "Queens are Powerful too: Mitigating Gender Bias...                                                NaN   \n",
       "...                                                                                               ...   \n",
       "Quantifying Gender Bias Towards Politicians in ...                                                NaN   \n",
       "Theory-Grounded Measurement of U.S. Social Ster...  ilps (template based, following kurita et al. ...   \n",
       "StereoSet: Measuring stereotypical bias in pret...  log probability for an attribute term to fill ...   \n",
       "Towards WinoQueer: Developing a Benchmark for A...  comparison of log probability of stereotypical...   \n",
       "Fewer Errors, but More Stereotypes? The Effect ...  single prompt: \"[mask] worked as a/an [occupat...   \n",
       "\n",
       "Title                                              Single word generation  \\\n",
       "Unpacking the Interdependent Systems of Discrim...                    yes   \n",
       "Universal Adversarial Triggers for Attacking an...                     no   \n",
       "CrowS-Pairs: A Challenge Dataset for Measuring ...                     no   \n",
       "“You are grounded!”: Latent Name Artifacts in P...                     no   \n",
       "Queens are Powerful too: Mitigating Gender Bias...                     no   \n",
       "...                                                                   ...   \n",
       "Quantifying Gender Bias Towards Politicians in ...                    yes   \n",
       "Theory-Grounded Measurement of U.S. Social Ster...                     no   \n",
       "StereoSet: Measuring stereotypical bias in pret...                     no   \n",
       "Towards WinoQueer: Developing a Benchmark for A...                     no   \n",
       "Fewer Errors, but More Stereotypes? The Effect ...                     no   \n",
       "\n",
       "Title                                               ...  \\\n",
       "Unpacking the Interdependent Systems of Discrim...  ...   \n",
       "Universal Adversarial Triggers for Attacking an...  ...   \n",
       "CrowS-Pairs: A Challenge Dataset for Measuring ...  ...   \n",
       "“You are grounded!”: Latent Name Artifacts in P...  ...   \n",
       "Queens are Powerful too: Mitigating Gender Bias...  ...   \n",
       "...                                                 ...   \n",
       "Quantifying Gender Bias Towards Politicians in ...  ...   \n",
       "Theory-Grounded Measurement of U.S. Social Ster...  ...   \n",
       "StereoSet: Measuring stereotypical bias in pret...  ...   \n",
       "Towards WinoQueer: Developing a Benchmark for A...  ...   \n",
       "Fewer Errors, but More Stereotypes? The Effect ...  ...   \n",
       "\n",
       "Title                                              Most probable option or N options  \\\n",
       "Unpacking the Interdependent Systems of Discrim...                                no   \n",
       "Universal Adversarial Triggers for Attacking an...                                no   \n",
       "CrowS-Pairs: A Challenge Dataset for Measuring ...                                no   \n",
       "“You are grounded!”: Latent Name Artifacts in P...                                no   \n",
       "Queens are Powerful too: Mitigating Gender Bias...                                no   \n",
       "...                                                                              ...   \n",
       "Quantifying Gender Bias Towards Politicians in ...                               yes   \n",
       "Theory-Grounded Measurement of U.S. Social Ster...                                no   \n",
       "StereoSet: Measuring stereotypical bias in pret...                                no   \n",
       "Towards WinoQueer: Developing a Benchmark for A...                                no   \n",
       "Fewer Errors, but More Stereotypes? The Effect ...                                no   \n",
       "\n",
       "Title                                              Comments  \\\n",
       "Unpacking the Interdependent Systems of Discrim...      NaN   \n",
       "Universal Adversarial Triggers for Attacking an...      NaN   \n",
       "CrowS-Pairs: A Challenge Dataset for Measuring ...      NaN   \n",
       "“You are grounded!”: Latent Name Artifacts in P...      NaN   \n",
       "Queens are Powerful too: Mitigating Gender Bias...      NaN   \n",
       "...                                                     ...   \n",
       "Quantifying Gender Bias Towards Politicians in ...      NaN   \n",
       "Theory-Grounded Measurement of U.S. Social Ster...      NaN   \n",
       "StereoSet: Measuring stereotypical bias in pret...      NaN   \n",
       "Towards WinoQueer: Developing a Benchmark for A...      NaN   \n",
       "Fewer Errors, but More Stereotypes? The Effect ...      NaN   \n",
       "\n",
       "Title                                               Difference in output distributions  \\\n",
       "Unpacking the Interdependent Systems of Discrim...                                  no   \n",
       "Universal Adversarial Triggers for Attacking an...                                  no   \n",
       "CrowS-Pairs: A Challenge Dataset for Measuring ...                                  no   \n",
       "“You are grounded!”: Latent Name Artifacts in P...                                 yes   \n",
       "Queens are Powerful too: Mitigating Gender Bias...                                 yes   \n",
       "...                                                                                ...   \n",
       "Quantifying Gender Bias Towards Politicians in ...                                  no   \n",
       "Theory-Grounded Measurement of U.S. Social Ster...                                  no   \n",
       "StereoSet: Measuring stereotypical bias in pret...                                  no   \n",
       "Towards WinoQueer: Developing a Benchmark for A...                                  no   \n",
       "Fewer Errors, but More Stereotypes? The Effect ...                                  no   \n",
       "\n",
       "Title                                                                                        Comments  \\\n",
       "Unpacking the Interdependent Systems of Discrim...                                                NaN   \n",
       "Universal Adversarial Triggers for Attacking an...                                                NaN   \n",
       "CrowS-Pairs: A Challenge Dataset for Measuring ...                                                NaN   \n",
       "“You are grounded!”: Latent Name Artifacts in P...                50 sample endings for each template   \n",
       "Queens are Powerful too: Mitigating Gender Bias...  not explicit but seems so: generate one senten...   \n",
       "...                                                                                               ...   \n",
       "Quantifying Gender Bias Towards Politicians in ...                                                NaN   \n",
       "Theory-Grounded Measurement of U.S. Social Ster...                                                NaN   \n",
       "StereoSet: Measuring stereotypical bias in pret...                                                NaN   \n",
       "Towards WinoQueer: Developing a Benchmark for A...                                                NaN   \n",
       "Fewer Errors, but More Stereotypes? The Effect ...                                                NaN   \n",
       "\n",
       "Title                                              Difference in toxicity  \\\n",
       "Unpacking the Interdependent Systems of Discrim...                     no   \n",
       "Universal Adversarial Triggers for Attacking an...                    yes   \n",
       "CrowS-Pairs: A Challenge Dataset for Measuring ...                     no   \n",
       "“You are grounded!”: Latent Name Artifacts in P...                     no   \n",
       "Queens are Powerful too: Mitigating Gender Bias...                    yes   \n",
       "...                                                                   ...   \n",
       "Quantifying Gender Bias Towards Politicians in ...                     no   \n",
       "Theory-Grounded Measurement of U.S. Social Ster...                     no   \n",
       "StereoSet: Measuring stereotypical bias in pret...                     no   \n",
       "Towards WinoQueer: Developing a Benchmark for A...                     no   \n",
       "Fewer Errors, but More Stereotypes? The Effect ...                     no   \n",
       "\n",
       "Title                                                                                Comments  \\\n",
       "Unpacking the Interdependent Systems of Discrim...                                        NaN   \n",
       "Universal Adversarial Triggers for Attacking an...                                        NaN   \n",
       "CrowS-Pairs: A Challenge Dataset for Measuring ...                                        NaN   \n",
       "“You are grounded!”: Latent Name Artifacts in P...                                        NaN   \n",
       "Queens are Powerful too: Mitigating Gender Bias...  look at generic \"offensiveness\" of output   \n",
       "...                                                                                       ...   \n",
       "Quantifying Gender Bias Towards Politicians in ...                                        NaN   \n",
       "Theory-Grounded Measurement of U.S. Social Ster...                                        NaN   \n",
       "StereoSet: Measuring stereotypical bias in pret...                                        NaN   \n",
       "Towards WinoQueer: Developing a Benchmark for A...                                        NaN   \n",
       "Fewer Errors, but More Stereotypes? The Effect ...                                        NaN   \n",
       "\n",
       "Title                                              Difference in sentiment  \\\n",
       "Unpacking the Interdependent Systems of Discrim...                     yes   \n",
       "Universal Adversarial Triggers for Attacking an...                      no   \n",
       "CrowS-Pairs: A Challenge Dataset for Measuring ...                      no   \n",
       "“You are grounded!”: Latent Name Artifacts in P...                     yes   \n",
       "Queens are Powerful too: Mitigating Gender Bias...                      no   \n",
       "...                                                                    ...   \n",
       "Quantifying Gender Bias Towards Politicians in ...                     yes   \n",
       "Theory-Grounded Measurement of U.S. Social Ster...                      no   \n",
       "StereoSet: Measuring stereotypical bias in pret...                      no   \n",
       "Towards WinoQueer: Developing a Benchmark for A...                      no   \n",
       "Fewer Errors, but More Stereotypes? The Effect ...                      no   \n",
       "\n",
       "Title                                                                                        Comments  \\\n",
       "Unpacking the Interdependent Systems of Discrim...                use google cloud sentiment analyser   \n",
       "Universal Adversarial Triggers for Attacking an...                                                NaN   \n",
       "CrowS-Pairs: A Challenge Dataset for Measuring ...                                                NaN   \n",
       "“You are grounded!”: Latent Name Artifacts in P...                                                NaN   \n",
       "Queens are Powerful too: Mitigating Gender Bias...                                                NaN   \n",
       "...                                                                                               ...   \n",
       "Quantifying Gender Bias Towards Politicians in ...  relative frequency of positive vs. negative se...   \n",
       "Theory-Grounded Measurement of U.S. Social Ster...                                                NaN   \n",
       "StereoSet: Measuring stereotypical bias in pret...                                                NaN   \n",
       "Towards WinoQueer: Developing a Benchmark for A...                                                NaN   \n",
       "Fewer Errors, but More Stereotypes? The Effect ...                                                NaN   \n",
       "\n",
       "Title                                              Difference in regard  \\\n",
       "Unpacking the Interdependent Systems of Discrim...                   no   \n",
       "Universal Adversarial Triggers for Attacking an...                   no   \n",
       "CrowS-Pairs: A Challenge Dataset for Measuring ...                   no   \n",
       "“You are grounded!”: Latent Name Artifacts in P...                   no   \n",
       "Queens are Powerful too: Mitigating Gender Bias...                   no   \n",
       "...                                                                 ...   \n",
       "Quantifying Gender Bias Towards Politicians in ...                   no   \n",
       "Theory-Grounded Measurement of U.S. Social Ster...                   no   \n",
       "StereoSet: Measuring stereotypical bias in pret...                   no   \n",
       "Towards WinoQueer: Developing a Benchmark for A...                   no   \n",
       "Fewer Errors, but More Stereotypes? The Effect ...                   no   \n",
       "\n",
       "Title                                              Comments  \n",
       "Unpacking the Interdependent Systems of Discrim...      NaN  \n",
       "Universal Adversarial Triggers for Attacking an...      NaN  \n",
       "CrowS-Pairs: A Challenge Dataset for Measuring ...      NaN  \n",
       "“You are grounded!”: Latent Name Artifacts in P...      NaN  \n",
       "Queens are Powerful too: Mitigating Gender Bias...      NaN  \n",
       "...                                                     ...  \n",
       "Quantifying Gender Bias Towards Politicians in ...      NaN  \n",
       "Theory-Grounded Measurement of U.S. Social Ster...      NaN  \n",
       "StereoSet: Measuring stereotypical bias in pret...      NaN  \n",
       "Towards WinoQueer: Developing a Benchmark for A...      NaN  \n",
       "Fewer Errors, but More Stereotypes? The Effect ...      NaN  \n",
       "\n",
       "[90 rows x 92 columns]"
      ]
     },
     "metadata": {},
     "output_type": "display_data"
    }
   ],
   "source": [
    "df = pd.read_csv(\"unified_annotations.csv\",sep=\",\",index_col=0)\n",
    "df = df[df.columns.drop(list(df.filter(regex='Comments')))].T\n",
    "#df = df.iloc[:-1,:]\n",
    "df = df.applymap(lambda x: x.strip() if isinstance(x, str) else x)\n",
    "df = df.applymap(lambda x: x.lower() if isinstance(x, str) else x)\n",
    "display(df)"
   ]
  },
  {
   "cell_type": "code",
   "execution_count": 208,
   "id": "c8cf8d3c-ea31-4ec0-8313-2a199e05b08d",
   "metadata": {},
   "outputs": [],
   "source": [
    "total_annotations = len(df)"
   ]
  },
  {
   "cell_type": "code",
   "execution_count": 209,
   "id": "4c666d06",
   "metadata": {
    "tags": []
   },
   "outputs": [
    {
     "data": {
      "text/plain": [
       "english                                                                         53\n",
       "en                                                                              21\n",
       "multilingual model but tested in only english                                    2\n",
       "it, fr, es, pt, ro, en                                                           1\n",
       "sudanese                                                                         1\n",
       "en, ru, ja + de, ar, es, pt, indonesian, zh                                      1\n",
       "cn                                                                               1\n",
       "english, german, spanish, korean,\\nturkish, and chinese                          1\n",
       "english, french, arabic                                                          1\n",
       "english, chinese                                                                 1\n",
       "french (also validates findings in english)                                      1\n",
       "english, bangla (only testing for language bias, not bias in bangla outputs)     1\n",
       "dutch                                                                            1\n",
       "english and german                                                               1\n",
       "arabic, chinese, english, french, hindi, russian, spanish                        1\n",
       "Name: Language, dtype: int64"
      ]
     },
     "execution_count": 209,
     "metadata": {},
     "output_type": "execute_result"
    }
   ],
   "source": [
    "df.Language.str.count(\"English\").sum() + df.Language.str.count(r\"\\ben\\b\").sum()\n",
    "df.Language.value_counts()"
   ]
  },
  {
   "cell_type": "code",
   "execution_count": 210,
   "id": "857ae9f5-e05d-4585-beca-26c02016bf97",
   "metadata": {},
   "outputs": [],
   "source": [
    "all_models = df[\"Model(s)\"].values"
   ]
  },
  {
   "cell_type": "code",
   "execution_count": 211,
   "id": "5377e351",
   "metadata": {
    "tags": []
   },
   "outputs": [
    {
     "name": "stdout",
     "output_type": "stream",
     "text": [
      "nan\n",
      "nan\n"
     ]
    }
   ],
   "source": [
    "bert, gpt, neither, fail = 0, 0, 0, 0\n",
    "total = len(all_models)\n",
    "for entry in all_models:\n",
    "    try:\n",
    "        text = entry.lower()\n",
    "    except:\n",
    "        print(entry) # mostly nans\n",
    "        fail += 1\n",
    "        continue\n",
    "    if \"bert\" not in text and \"gpt\" not in text:\n",
    "        neither += 1\n",
    "        continue\n",
    "    if \"bert\" in text:\n",
    "        bert += 1\n",
    "    if \"gpt\" in text:\n",
    "        gpt += 1"
   ]
  },
  {
   "cell_type": "code",
   "execution_count": 212,
   "id": "1cc9fbf1-d197-4011-a75c-b39ccefcb724",
   "metadata": {},
   "outputs": [
    {
     "name": "stdout",
     "output_type": "stream",
     "text": [
      "Bert: 43 GPT: 42 Neither: 11 Total: 88\n"
     ]
    }
   ],
   "source": [
    "print(f\"Bert: {bert} GPT: {gpt} Neither: {neither} Total: {total-fail}\")"
   ]
  },
  {
   "cell_type": "code",
   "execution_count": 165,
   "id": "b82d9a80-5612-4dd5-9d8c-66ebc4547103",
   "metadata": {
    "tags": []
   },
   "outputs": [],
   "source": [
    "model_counts = []\n",
    "for entry in all_models:\n",
    "    if type(entry) != str:\n",
    "        continue\n",
    "    text = re.sub(\" and \", \",\", entry)\n",
    "    text = re.sub(\",,\", \",\", text)\n",
    "    models = text.split(',')\n",
    "    model_counts.append(len(models))"
   ]
  },
  {
   "cell_type": "code",
   "execution_count": 213,
   "id": "1e7881da-c131-4b4c-9d0b-e1bcdb6b9607",
   "metadata": {
    "tags": []
   },
   "outputs": [
    {
     "data": {
      "text/plain": [
       "<AxesSubplot: ylabel='Count'>"
      ]
     },
     "execution_count": 213,
     "metadata": {},
     "output_type": "execute_result"
    },
    {
     "data": {
      "image/png": "[encoded data removed]",
      "text/plain": [
       "<Figure size 640x480 with 1 Axes>"
      ]
     },
     "metadata": {},
     "output_type": "display_data"
    }
   ],
   "source": [
    "sns.histplot(data=model_counts)"
   ]
  },
  {
   "cell_type": "code",
   "execution_count": 214,
   "id": "08d42ee9",
   "metadata": {},
   "outputs": [
    {
     "data": {
      "text/plain": [
       "48.0"
      ]
     },
     "execution_count": 214,
     "metadata": {},
     "output_type": "execute_result"
    }
   ],
   "source": [
    "df[\"Code available?\"].str.count(\"yes\").sum()"
   ]
  },
  {
   "cell_type": "code",
   "execution_count": 291,
   "id": "ca8d97ad",
   "metadata": {
    "tags": []
   },
   "outputs": [],
   "source": [
    "t = df[\"Gender Scope\"].value_counts().items()"
   ]
  },
  {
   "cell_type": "code",
   "execution_count": 292,
   "id": "7897b13c-0aed-49ab-9a18-3ca4481d18a5",
   "metadata": {},
   "outputs": [],
   "source": [
    "scope_df = pd.DataFrame.from_records(t, columns=[\"gender_scope\", \"count\"])"
   ]
  },
  {
   "cell_type": "code",
   "execution_count": 294,
   "id": "e3ea6988-f9ff-4626-9bc6-749989307d67",
   "metadata": {},
   "outputs": [
    {
     "data": {
      "text/plain": [
       "(array([0, 1, 2, 3]),\n",
       " [Text(0, 0, 'binary only'),\n",
       "  Text(1, 0, 'binary+ack'),\n",
       "  Text(2, 0, 'binary+other'),\n",
       "  Text(3, 0, 'other only')])"
      ]
     },
     "execution_count": 294,
     "metadata": {},
     "output_type": "execute_result"
    },
    {
     "data": {
      "image/png": "[encoded data removed]",
      "text/plain": [
       "<Figure size 640x480 with 1 Axes>"
      ]
     },
     "metadata": {},
     "output_type": "display_data"
    }
   ],
   "source": [
    "myplot = sns.barplot(data=scope_df, x=\"gender_scope\", y=\"count\")\n",
    "plt.xticks(rotation=90)"
   ]
  },
  {
   "cell_type": "code",
   "execution_count": 169,
   "id": "7305492e-6eb0-42d7-87b1-2e5e61b81afb",
   "metadata": {
    "collapsed": true,
    "jupyter": {
     "outputs_hidden": true
    },
    "tags": []
   },
   "outputs": [
    {
     "name": "stdout",
     "output_type": "stream",
     "text": [
      "identity terms                                30\n",
      "pronouns                                      11\n",
      "unclear                                        8\n",
      "names                                          5\n",
      "identity terms, names                          4\n",
      "identity terms, pronouns                       2\n",
      "names, identity terms                          2\n",
      "no                                             2\n",
      "pronouns, identity terms, associated words     2\n",
      "pronouns, unclear                              2\n",
      "dialect features                               2\n",
      "roles                                          1\n",
      "dialect features, pronouns, roles              1\n",
      "identity terms, other                          1\n",
      "identity terms, pronouns, other                1\n",
      "roles, identity terms, pronouns                1\n",
      "pronouns, identity terms                       1\n",
      "names, other                                   1\n",
      "identity terms, names, roles                   1\n",
      "identity terms, names, pronouns                1\n",
      "other                                          1\n",
      "names, pronouns                                1\n",
      "Name: Type of Proxy, dtype: int64\n"
     ]
    }
   ],
   "source": [
    "print(df[\"Type of Proxy\"].value_counts())"
   ]
  },
  {
   "cell_type": "code",
   "execution_count": 223,
   "id": "8538f54f-8b01-4b79-a8a3-7dd33f8e0ff4",
   "metadata": {},
   "outputs": [],
   "source": [
    "proxies = [x for x in df[\"Type of Proxy\"].values if isinstance(x, str)]"
   ]
  },
  {
   "cell_type": "code",
   "execution_count": 224,
   "id": "e0248a21-a105-4866-b830-678d5cf47b11",
   "metadata": {},
   "outputs": [],
   "source": [
    "all_proxies = []\n",
    "for x in proxies:\n",
    "    \n",
    "    p = [t.strip() for t in x.split(\",\")]\n",
    "    all_proxies.extend(p)"
   ]
  },
  {
   "cell_type": "code",
   "execution_count": 225,
   "id": "9b7dc9d0-8bb3-44f6-ad83-24a76520f85e",
   "metadata": {},
   "outputs": [],
   "source": [
    "data = sorted(list(Counter(all_proxies).items()), key=lambda x:x[1], reverse=True)"
   ]
  },
  {
   "cell_type": "code",
   "execution_count": 226,
   "id": "747aed6d-07ec-41e2-9251-5718412a2f50",
   "metadata": {},
   "outputs": [
    {
     "data": {
      "text/plain": [
       "107"
      ]
     },
     "execution_count": 226,
     "metadata": {},
     "output_type": "execute_result"
    }
   ],
   "source": [
    "len(all_proxies)"
   ]
  },
  {
   "cell_type": "code",
   "execution_count": 227,
   "id": "f23532a8-9887-4241-b4c8-1eef24bea4e1",
   "metadata": {
    "tags": []
   },
   "outputs": [
    {
     "data": {
      "text/plain": [
       "[('identity terms', 46),\n",
       " ('pronouns', 23),\n",
       " ('names', 15),\n",
       " ('unclear', 10),\n",
       " ('other', 4),\n",
       " ('roles', 4),\n",
       " ('dialect features', 3),\n",
       " ('associated words', 2)]"
      ]
     },
     "execution_count": 227,
     "metadata": {},
     "output_type": "execute_result"
    }
   ],
   "source": [
    "data"
   ]
  },
  {
   "cell_type": "code",
   "execution_count": 228,
   "id": "09b62b4d-ea42-4899-a09d-937094c8c6ec",
   "metadata": {},
   "outputs": [],
   "source": [
    "proxy_types = pd.DataFrame.from_records(data, columns=[\"proxy\", \"count\"])"
   ]
  },
  {
   "cell_type": "code",
   "execution_count": 229,
   "id": "b1719c8f-2ccc-4725-8555-952a1888a8e5",
   "metadata": {
    "tags": []
   },
   "outputs": [
    {
     "data": {
      "text/plain": [
       "(array([0, 1, 2, 3, 4, 5, 6, 7]),\n",
       " [Text(0, 0, 'identity terms'),\n",
       "  Text(1, 0, 'pronouns'),\n",
       "  Text(2, 0, 'names'),\n",
       "  Text(3, 0, 'unclear'),\n",
       "  Text(4, 0, 'other'),\n",
       "  Text(5, 0, 'roles'),\n",
       "  Text(6, 0, 'dialect features'),\n",
       "  Text(7, 0, 'associated words')])"
      ]
     },
     "execution_count": 229,
     "metadata": {},
     "output_type": "execute_result"
    },
    {
     "data": {
      "image/png": "[encoded data removed]",
      "text/plain": [
       "<Figure size 640x480 with 1 Axes>"
      ]
     },
     "metadata": {},
     "output_type": "display_data"
    }
   ],
   "source": [
    "myplot = sns.barplot(data=proxy_types, x=\"proxy\", y=\"count\")\n",
    "plt.xticks(rotation=90)"
   ]
  },
  {
   "cell_type": "code",
   "execution_count": null,
   "id": "1f419708-7d52-428c-a632-9b76e4a39b2d",
   "metadata": {},
   "outputs": [],
   "source": [
    "# question, what percentage use only identity terms?"
   ]
  },
  {
   "cell_type": "code",
   "execution_count": 230,
   "id": "bae168eb-fac2-43c8-aff8-393b9ef08425",
   "metadata": {},
   "outputs": [],
   "source": [
    "prompt_task = [\"Sequence Scoring\", \"Single word generation\", \"Prompt continuation\", \"Full sentence response\"]"
   ]
  },
  {
   "cell_type": "code",
   "execution_count": 231,
   "id": "a82238ab-506c-48a5-b804-79c25c84db64",
   "metadata": {},
   "outputs": [],
   "source": [
    "res = []\n",
    "for pt in prompt_task:\n",
    "    x = Counter(df[pt].values)\n",
    "    res.append(x['yes'])"
   ]
  },
  {
   "cell_type": "code",
   "execution_count": 232,
   "id": "d2eedfad-3624-476f-9948-cc9569be0f0a",
   "metadata": {},
   "outputs": [],
   "source": [
    "prompts = pd.DataFrame.from_records(list(zip(prompt_task, res)), columns=[\"prompt_task\", \"count\"])"
   ]
  },
  {
   "cell_type": "code",
   "execution_count": 233,
   "id": "7ebc0748-fe1b-482e-8574-f512fedbd399",
   "metadata": {},
   "outputs": [
    {
     "data": {
      "text/plain": [
       "(array([0, 1, 2, 3]),\n",
       " [Text(0, 0, 'Sequence Scoring'),\n",
       "  Text(1, 0, 'Single word generation'),\n",
       "  Text(2, 0, 'Prompt continuation'),\n",
       "  Text(3, 0, 'Full sentence response')])"
      ]
     },
     "execution_count": 233,
     "metadata": {},
     "output_type": "execute_result"
    },
    {
     "data": {
      "image/png": "[encoded data removed]",
      "text/plain": [
       "<Figure size 640x480 with 1 Axes>"
      ]
     },
     "metadata": {},
     "output_type": "display_data"
    }
   ],
   "source": [
    "myplot = sns.barplot(data=prompts, x=\"prompt_task\", y=\"count\")\n",
    "plt.xticks(rotation=90)"
   ]
  },
  {
   "cell_type": "code",
   "execution_count": 234,
   "id": "06f6b7f5-be86-4329-a6d7-c69887b7bc67",
   "metadata": {},
   "outputs": [
    {
     "data": {
      "text/plain": [
       "Counter({'no': 41, 'yes': 32, nan: 17})"
      ]
     },
     "execution_count": 234,
     "metadata": {},
     "output_type": "execute_result"
    }
   ],
   "source": [
    "Counter(df[\"Fixed set\"].values)"
   ]
  },
  {
   "cell_type": "code",
   "execution_count": 235,
   "id": "9b3b9f29",
   "metadata": {},
   "outputs": [],
   "source": [
    "context = [\"Zero-shot/ few-shot task\", \"(Upstream) LM\", \"Dialogue\", \"Q&A\"]"
   ]
  },
  {
   "cell_type": "code",
   "execution_count": 236,
   "id": "ec3b4882-fb76-4186-815f-65fd4479c4f7",
   "metadata": {},
   "outputs": [],
   "source": [
    "res = []\n",
    "for i in context:\n",
    "    x = Counter(df[i].values)\n",
    "    res.append(x['yes'])"
   ]
  },
  {
   "cell_type": "code",
   "execution_count": 237,
   "id": "77aa047a-3de1-4d4c-991a-d5abf9552a70",
   "metadata": {},
   "outputs": [],
   "source": [
    "context_df = pd.DataFrame.from_records(list(zip(context, res)), columns=[\"context\", \"count\"])"
   ]
  },
  {
   "cell_type": "code",
   "execution_count": 238,
   "id": "8065d1b9-b72b-4d36-b2bc-9d565a84462e",
   "metadata": {},
   "outputs": [
    {
     "data": {
      "text/html": [
       "<div>\n",
       "<style scoped>\n",
       "    .dataframe tbody tr th:only-of-type {\n",
       "        vertical-align: middle;\n",
       "    }\n",
       "\n",
       "    .dataframe tbody tr th {\n",
       "        vertical-align: top;\n",
       "    }\n",
       "\n",
       "    .dataframe thead th {\n",
       "        text-align: right;\n",
       "    }\n",
       "</style>\n",
       "<table border=\"1\" class=\"dataframe\">\n",
       "  <thead>\n",
       "    <tr style=\"text-align: right;\">\n",
       "      <th></th>\n",
       "      <th>context</th>\n",
       "      <th>count</th>\n",
       "    </tr>\n",
       "  </thead>\n",
       "  <tbody>\n",
       "    <tr>\n",
       "      <th>0</th>\n",
       "      <td>Zero-shot/ few-shot task</td>\n",
       "      <td>10</td>\n",
       "    </tr>\n",
       "    <tr>\n",
       "      <th>1</th>\n",
       "      <td>(Upstream) LM</td>\n",
       "      <td>66</td>\n",
       "    </tr>\n",
       "    <tr>\n",
       "      <th>2</th>\n",
       "      <td>Dialogue</td>\n",
       "      <td>15</td>\n",
       "    </tr>\n",
       "    <tr>\n",
       "      <th>3</th>\n",
       "      <td>Q&amp;A</td>\n",
       "      <td>3</td>\n",
       "    </tr>\n",
       "  </tbody>\n",
       "</table>\n",
       "</div>"
      ],
      "text/plain": [
       "                    context  count\n",
       "0  Zero-shot/ few-shot task     10\n",
       "1             (Upstream) LM     66\n",
       "2                  Dialogue     15\n",
       "3                       Q&A      3"
      ]
     },
     "execution_count": 238,
     "metadata": {},
     "output_type": "execute_result"
    }
   ],
   "source": [
    "context_df"
   ]
  },
  {
   "cell_type": "code",
   "execution_count": 239,
   "id": "56a8fca6-ec27-4cc2-817f-34e888f49be4",
   "metadata": {},
   "outputs": [
    {
     "data": {
      "text/plain": [
       "(array([0, 1, 2, 3]),\n",
       " [Text(0, 0, 'Zero-shot/ few-shot task'),\n",
       "  Text(1, 0, '(Upstream) LM'),\n",
       "  Text(2, 0, 'Dialogue'),\n",
       "  Text(3, 0, 'Q&A')])"
      ]
     },
     "execution_count": 239,
     "metadata": {},
     "output_type": "execute_result"
    },
    {
     "data": {
      "image/png": "[encoded data removed]",
      "text/plain": [
       "<Figure size 640x480 with 1 Axes>"
      ]
     },
     "metadata": {},
     "output_type": "display_data"
    }
   ],
   "source": [
    "myplot = sns.barplot(data=context_df, x=\"context\", y=\"count\")\n",
    "plt.xticks(rotation=90)"
   ]
  },
  {
   "cell_type": "code",
   "execution_count": 240,
   "id": "4546938d-0d82-4bc0-a3bd-39ef762435e8",
   "metadata": {},
   "outputs": [],
   "source": [
    "origin = [\"Author\", \"Crowd-sourced\", \"Corpus\", \"Automatically Generated\"]"
   ]
  },
  {
   "cell_type": "code",
   "execution_count": 241,
   "id": "1d7d645a-92af-4786-845c-8e367bea81c4",
   "metadata": {},
   "outputs": [],
   "source": [
    "res = []\n",
    "for i in origin:\n",
    "    x = Counter(df[i].values)\n",
    "    res.append(x['yes'])"
   ]
  },
  {
   "cell_type": "code",
   "execution_count": 242,
   "id": "1b0eb21f-140f-4333-aa84-bf12f5b46b67",
   "metadata": {},
   "outputs": [],
   "source": [
    "origin_df = pd.DataFrame.from_records(list(zip(origin, res)), columns=[\"test_origin\", \"count\"])"
   ]
  },
  {
   "cell_type": "code",
   "execution_count": 243,
   "id": "8219b2c3-b4bb-4e1e-a7ee-b33de07a7f65",
   "metadata": {},
   "outputs": [
    {
     "data": {
      "text/plain": [
       "(array([0, 1, 2, 3]),\n",
       " [Text(0, 0, 'Author'),\n",
       "  Text(1, 0, 'Crowd-sourced'),\n",
       "  Text(2, 0, 'Corpus'),\n",
       "  Text(3, 0, 'Automatically Generated')])"
      ]
     },
     "execution_count": 243,
     "metadata": {},
     "output_type": "execute_result"
    },
    {
     "data": {
      "image/png": "[encoded data removed]",
      "text/plain": [
       "<Figure size 640x480 with 1 Axes>"
      ]
     },
     "metadata": {},
     "output_type": "display_data"
    }
   ],
   "source": [
    "myplot = sns.barplot(data=origin_df, x=\"test_origin\", y=\"count\")\n",
    "plt.xticks(rotation=90)"
   ]
  },
  {
   "cell_type": "code",
   "execution_count": null,
   "id": "a8d25885-2e9f-45c1-b859-f4fe952934b6",
   "metadata": {},
   "outputs": [],
   "source": [
    "# demographics, harm conceptualised, operationalisation"
   ]
  },
  {
   "cell_type": "code",
   "execution_count": 244,
   "id": "153c8df5-70ad-44f2-b0cd-6493c72f4552",
   "metadata": {},
   "outputs": [],
   "source": [
    "ops = [\"Output content assessed\", \"Output quality assessed\", \"Difference in probability (ranking over fixed set)\", \"Most probable option or N options\", \"Difference in regard\", \"Difference in sentiment\", \"Difference in toxicity\", \"Difference in output distributions\"]"
   ]
  },
  {
   "cell_type": "code",
   "execution_count": 245,
   "id": "4f4483b1-3b22-4172-8060-920d7b159e83",
   "metadata": {},
   "outputs": [],
   "source": [
    "res = []\n",
    "for i in ops:\n",
    "    x = Counter(df[i].values)\n",
    "    res.append(x['yes'])"
   ]
  },
  {
   "cell_type": "code",
   "execution_count": 246,
   "id": "5196783e-3da9-4aa8-af6a-fa1a76eafa88",
   "metadata": {},
   "outputs": [],
   "source": [
    "ops_df = pd.DataFrame.from_records(list(zip(ops, res)), columns=[\"operationalisation\", \"count\"])"
   ]
  },
  {
   "cell_type": "code",
   "execution_count": 247,
   "id": "9e54bf94-16a7-42bd-af64-aa6c0095392b",
   "metadata": {},
   "outputs": [
    {
     "data": {
      "text/html": [
       "<div>\n",
       "<style scoped>\n",
       "    .dataframe tbody tr th:only-of-type {\n",
       "        vertical-align: middle;\n",
       "    }\n",
       "\n",
       "    .dataframe tbody tr th {\n",
       "        vertical-align: top;\n",
       "    }\n",
       "\n",
       "    .dataframe thead th {\n",
       "        text-align: right;\n",
       "    }\n",
       "</style>\n",
       "<table border=\"1\" class=\"dataframe\">\n",
       "  <thead>\n",
       "    <tr style=\"text-align: right;\">\n",
       "      <th></th>\n",
       "      <th>operationalisation</th>\n",
       "      <th>count</th>\n",
       "    </tr>\n",
       "  </thead>\n",
       "  <tbody>\n",
       "    <tr>\n",
       "      <th>0</th>\n",
       "      <td>Output content assessed</td>\n",
       "      <td>54</td>\n",
       "    </tr>\n",
       "    <tr>\n",
       "      <th>1</th>\n",
       "      <td>Output quality assessed</td>\n",
       "      <td>19</td>\n",
       "    </tr>\n",
       "    <tr>\n",
       "      <th>2</th>\n",
       "      <td>Difference in probability (ranking over fixed ...</td>\n",
       "      <td>33</td>\n",
       "    </tr>\n",
       "    <tr>\n",
       "      <th>3</th>\n",
       "      <td>Most probable option or N options</td>\n",
       "      <td>20</td>\n",
       "    </tr>\n",
       "    <tr>\n",
       "      <th>4</th>\n",
       "      <td>Difference in regard</td>\n",
       "      <td>7</td>\n",
       "    </tr>\n",
       "    <tr>\n",
       "      <th>5</th>\n",
       "      <td>Difference in sentiment</td>\n",
       "      <td>24</td>\n",
       "    </tr>\n",
       "    <tr>\n",
       "      <th>6</th>\n",
       "      <td>Difference in toxicity</td>\n",
       "      <td>25</td>\n",
       "    </tr>\n",
       "    <tr>\n",
       "      <th>7</th>\n",
       "      <td>Difference in output distributions</td>\n",
       "      <td>8</td>\n",
       "    </tr>\n",
       "  </tbody>\n",
       "</table>\n",
       "</div>"
      ],
      "text/plain": [
       "                                  operationalisation  count\n",
       "0                            Output content assessed     54\n",
       "1                            Output quality assessed     19\n",
       "2  Difference in probability (ranking over fixed ...     33\n",
       "3                  Most probable option or N options     20\n",
       "4                               Difference in regard      7\n",
       "5                            Difference in sentiment     24\n",
       "6                             Difference in toxicity     25\n",
       "7                 Difference in output distributions      8"
      ]
     },
     "execution_count": 247,
     "metadata": {},
     "output_type": "execute_result"
    }
   ],
   "source": [
    "ops_df"
   ]
  },
  {
   "cell_type": "code",
   "execution_count": 248,
   "id": "88072e5c-5b34-4087-a581-20d71f74aa10",
   "metadata": {
    "tags": []
   },
   "outputs": [
    {
     "data": {
      "text/plain": [
       "(array([0, 1, 2, 3, 4, 5, 6, 7]),\n",
       " [Text(0, 0, 'Output content assessed'),\n",
       "  Text(1, 0, 'Output quality assessed'),\n",
       "  Text(2, 0, 'Difference in probability (ranking over fixed set)'),\n",
       "  Text(3, 0, 'Most probable option or N options'),\n",
       "  Text(4, 0, 'Difference in regard'),\n",
       "  Text(5, 0, 'Difference in sentiment'),\n",
       "  Text(6, 0, 'Difference in toxicity'),\n",
       "  Text(7, 0, 'Difference in output distributions')])"
      ]
     },
     "execution_count": 248,
     "metadata": {},
     "output_type": "execute_result"
    },
    {
     "data": {
      "image/png": "[encoded data removed]",
      "text/plain": [
       "<Figure size 640x480 with 1 Axes>"
      ]
     },
     "metadata": {},
     "output_type": "display_data"
    }
   ],
   "source": [
    "myplot = sns.barplot(data=ops_df, x=\"operationalisation\", y=\"count\")\n",
    "plt.xticks(rotation=90)"
   ]
  },
  {
   "cell_type": "code",
   "execution_count": 261,
   "id": "5c609fb9-0f5a-4c4e-8587-96149af5e20f",
   "metadata": {},
   "outputs": [],
   "source": [
    "outcome = [\"No impact of demog term\", \"Neg. stereotype not in model\", \"No harmful output generated\", \"Other_Outcome\", \"Unclear_Outcome\"]"
   ]
  },
  {
   "cell_type": "code",
   "execution_count": 263,
   "id": "da65244a-56fa-483a-a68e-3cbe202f34a1",
   "metadata": {},
   "outputs": [],
   "source": [
    "res = []\n",
    "for i in outcome:\n",
    "    x = Counter([x for x in df[i].values if isinstance(x, str)])\n",
    "    res.append(x['yes'])"
   ]
  },
  {
   "cell_type": "code",
   "execution_count": 264,
   "id": "cbd1daa2-3b7f-4f6e-8844-49458e648647",
   "metadata": {},
   "outputs": [],
   "source": [
    "outcome_df = pd.DataFrame.from_records(list(zip(outcome, res)), columns=[\"desired_outcome\", \"count\"])"
   ]
  },
  {
   "cell_type": "code",
   "execution_count": 265,
   "id": "41712ebe-e9c1-4661-8052-bfffc7d02a8f",
   "metadata": {
    "collapsed": true,
    "jupyter": {
     "outputs_hidden": true
    },
    "tags": []
   },
   "outputs": [
    {
     "data": {
      "text/html": [
       "<div>\n",
       "<style scoped>\n",
       "    .dataframe tbody tr th:only-of-type {\n",
       "        vertical-align: middle;\n",
       "    }\n",
       "\n",
       "    .dataframe tbody tr th {\n",
       "        vertical-align: top;\n",
       "    }\n",
       "\n",
       "    .dataframe thead th {\n",
       "        text-align: right;\n",
       "    }\n",
       "</style>\n",
       "<table border=\"1\" class=\"dataframe\">\n",
       "  <thead>\n",
       "    <tr style=\"text-align: right;\">\n",
       "      <th></th>\n",
       "      <th>desired_outcome</th>\n",
       "      <th>count</th>\n",
       "    </tr>\n",
       "  </thead>\n",
       "  <tbody>\n",
       "    <tr>\n",
       "      <th>0</th>\n",
       "      <td>No impact of demog term</td>\n",
       "      <td>15</td>\n",
       "    </tr>\n",
       "    <tr>\n",
       "      <th>1</th>\n",
       "      <td>Neg. stereotype not in model</td>\n",
       "      <td>30</td>\n",
       "    </tr>\n",
       "    <tr>\n",
       "      <th>2</th>\n",
       "      <td>No harmful output generated</td>\n",
       "      <td>14</td>\n",
       "    </tr>\n",
       "    <tr>\n",
       "      <th>3</th>\n",
       "      <td>Other_Outcome</td>\n",
       "      <td>14</td>\n",
       "    </tr>\n",
       "    <tr>\n",
       "      <th>4</th>\n",
       "      <td>Unclear_Outcome</td>\n",
       "      <td>32</td>\n",
       "    </tr>\n",
       "  </tbody>\n",
       "</table>\n",
       "</div>"
      ],
      "text/plain": [
       "                desired_outcome  count\n",
       "0       No impact of demog term     15\n",
       "1  Neg. stereotype not in model     30\n",
       "2   No harmful output generated     14\n",
       "3                 Other_Outcome     14\n",
       "4               Unclear_Outcome     32"
      ]
     },
     "execution_count": 265,
     "metadata": {},
     "output_type": "execute_result"
    }
   ],
   "source": [
    "outcome_df"
   ]
  },
  {
   "cell_type": "code",
   "execution_count": 266,
   "id": "b4a05d25-b123-47dc-bf1e-fa29459fa317",
   "metadata": {
    "collapsed": true,
    "jupyter": {
     "outputs_hidden": true
    },
    "tags": []
   },
   "outputs": [
    {
     "data": {
      "text/plain": [
       "(array([0, 1, 2, 3, 4]),\n",
       " [Text(0, 0, 'No impact of demog term'),\n",
       "  Text(1, 0, 'Neg. stereotype not in model'),\n",
       "  Text(2, 0, 'No harmful output generated'),\n",
       "  Text(3, 0, 'Other_Outcome'),\n",
       "  Text(4, 0, 'Unclear_Outcome')])"
      ]
     },
     "execution_count": 266,
     "metadata": {},
     "output_type": "execute_result"
    },
    {
     "data": {
      "image/png": "[encoded data removed]",
      "text/plain": [
       "<Figure size 640x480 with 1 Axes>"
      ]
     },
     "metadata": {},
     "output_type": "display_data"
    }
   ],
   "source": [
    "myplot = sns.barplot(data=outcome_df, x=\"desired_outcome\", y=\"count\")\n",
    "plt.xticks(rotation=90)"
   ]
  },
  {
   "cell_type": "code",
   "execution_count": 267,
   "id": "6384a78c-67e9-4b5d-b197-95b24945fc3b",
   "metadata": {},
   "outputs": [],
   "source": [
    "harm = [\"Stereotyping\", \"Toxic Content Generation\", \"Other_Harm\", \"Unclear_Harm\"]"
   ]
  },
  {
   "cell_type": "code",
   "execution_count": 268,
   "id": "10f58479-05b3-4bbc-9a99-73e8cff314ca",
   "metadata": {},
   "outputs": [],
   "source": [
    "res = []\n",
    "for i in harm:\n",
    "    x = Counter([x for x in df[i].values if isinstance(x, str)])\n",
    "    res.append(x['yes'])"
   ]
  },
  {
   "cell_type": "code",
   "execution_count": 269,
   "id": "e795cab7-47a9-4eaf-9697-163907ea874c",
   "metadata": {},
   "outputs": [],
   "source": [
    "harm_df = pd.DataFrame.from_records(list(zip(harm, res)), columns=[\"harm_concept\", \"count\"])"
   ]
  },
  {
   "cell_type": "code",
   "execution_count": 270,
   "id": "be47e8ba-33f3-4881-bea8-2ce6747e06a4",
   "metadata": {},
   "outputs": [
    {
     "data": {
      "text/plain": [
       "(array([0, 1, 2, 3]),\n",
       " [Text(0, 0, 'Stereotyping'),\n",
       "  Text(1, 0, 'Toxic Content Generation'),\n",
       "  Text(2, 0, 'Other_Harm'),\n",
       "  Text(3, 0, 'Unclear_Harm')])"
      ]
     },
     "execution_count": 270,
     "metadata": {},
     "output_type": "execute_result"
    },
    {
     "data": {
      "image/png": "[encoded data removed]",
      "text/plain": [
       "<Figure size 640x480 with 1 Axes>"
      ]
     },
     "metadata": {},
     "output_type": "display_data"
    }
   ],
   "source": [
    "myplot = sns.barplot(data=harm_df, x=\"harm_concept\", y=\"count\")\n",
    "plt.xticks(rotation=90)"
   ]
  },
  {
   "cell_type": "code",
   "execution_count": 273,
   "id": "6cbd2e3d-e65c-4663-acae-8f7a2c55d964",
   "metadata": {},
   "outputs": [],
   "source": [
    "demo = [\"Gender\", \"Religion\",\"Sexual Orientation\", \"Other_Demographic\", \"Ethnicity/race\"]"
   ]
  },
  {
   "cell_type": "code",
   "execution_count": 275,
   "id": "249e91f9-8fdc-4d5e-b72a-5568e06ab6a7",
   "metadata": {},
   "outputs": [],
   "source": [
    "res = []\n",
    "for i in demo:\n",
    "    x = Counter([x for x in df[i].values if isinstance(x, str)])\n",
    "    res.append(x['yes'])\n",
    "demo_df = pd.DataFrame.from_records(list(zip(demo, res)), columns=[\"demographic\", \"count\"])"
   ]
  },
  {
   "cell_type": "code",
   "execution_count": 276,
   "id": "d7239825-e71a-463c-a355-7fa0f7885569",
   "metadata": {},
   "outputs": [
    {
     "data": {
      "text/plain": [
       "(array([0, 1, 2, 3, 4]),\n",
       " [Text(0, 0, 'Gender'),\n",
       "  Text(1, 0, 'Religion'),\n",
       "  Text(2, 0, 'Sexual Orientation'),\n",
       "  Text(3, 0, 'Other_Demographic'),\n",
       "  Text(4, 0, 'Ethnicity/race')])"
      ]
     },
     "execution_count": 276,
     "metadata": {},
     "output_type": "execute_result"
    },
    {
     "data": {
      "image/png": "[encoded data removed]",
      "text/plain": [
       "<Figure size 640x480 with 1 Axes>"
      ]
     },
     "metadata": {},
     "output_type": "display_data"
    }
   ],
   "source": [
    "myplot = sns.barplot(data=demo_df, x=\"demographic\", y=\"count\")\n",
    "plt.xticks(rotation=90)"
   ]
  },
  {
   "cell_type": "code",
   "execution_count": 272,
   "id": "a2ef71eb-5e1f-4472-99f8-d1a5059de220",
   "metadata": {},
   "outputs": [
    {
     "data": {
      "text/plain": [
       "0.5222222222222223"
      ]
     },
     "execution_count": 272,
     "metadata": {},
     "output_type": "execute_result"
    }
   ],
   "source": [
    "df[\"Explicit Demographic Terms?\"].str.count(\"yes\").sum()/len(df[\"Explicit Demographic Terms?\"])"
   ]
  },
  {
   "cell_type": "code",
   "execution_count": null,
   "id": "c0a88647-55fe-4958-8ece-e385a5a1de28",
   "metadata": {},
   "outputs": [],
   "source": []
  }
 ],
 "metadata": {
  "kernelspec": {
   "display_name": "Python 3 (ipykernel)",
   "language": "python",
   "name": "python3"
  },
  "language_info": {
   "codemirror_mode": {
    "name": "ipython",
    "version": 3
   },
   "file_extension": ".py",
   "mimetype": "text/x-python",
   "name": "python",
   "nbconvert_exporter": "python",
   "pygments_lexer": "ipython3",
   "version": "3.9.12"
  }
 },
 "nbformat": 4,
 "nbformat_minor": 5
}
